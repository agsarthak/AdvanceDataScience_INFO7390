{
 "cells": [
  {
   "cell_type": "code",
   "execution_count": 94,
   "metadata": {
    "collapsed": true
   },
   "outputs": [],
   "source": [
    "import pandas as pd\n",
    "import numpy as np"
   ]
  },
  {
   "cell_type": "code",
   "execution_count": 11,
   "metadata": {
    "collapsed": false
   },
   "outputs": [
    {
     "name": "stdout",
     "output_type": "stream",
     "text": [
      "    No   GPA  Years of work experience  Latest salary (per year)  \\\n",
      "0    1  3.50                       2.5                     45000   \n",
      "1    3  3.80                       1.0                     65000   \n",
      "2    4  3.80                       2.0                     85000   \n",
      "3    5  3.41                       1.5                     10000   \n",
      "4    6  3.33                       5.0                     70000   \n",
      "5    7  3.52                       2.5                     27000   \n",
      "6    8  3.50                       2.0                     40000   \n",
      "7    9  3.50                       5.0                     75000   \n",
      "8   10  3.60                       2.5                     65000   \n",
      "9   11  3.20                       4.0                     62000   \n",
      "10  12  3.50                       2.0                     60000   \n",
      "11  13  3.67                       1.8                     60000   \n",
      "12  14  3.50                       2.0                     60000   \n",
      "13  15  3.47                       2.5                     70000   \n",
      "14  16  3.06                       1.3                     40000   \n",
      "15  17  3.27                       2.0                     60000   \n",
      "16  18  3.53                       4.0                     50000   \n",
      "17  19  4.00                       4.0                     50000   \n",
      "18  20  3.40                       1.0                     30000   \n",
      "19  21  3.54                       1.0                     40000   \n",
      "20  22  3.50                       2.0                     75000   \n",
      "21  23  3.50                       4.0                     50000   \n",
      "22  24  3.40                       3.0                     50000   \n",
      "23  26  3.30                       4.0                     65000   \n",
      "24  27  3.90                       6.0                     90000   \n",
      "25  28  3.17                       1.0                     50000   \n",
      "26  29  3.48                       3.5                     60000   \n",
      "27  30  3.93                       4.0                     43000   \n",
      "28  31  3.43                       4.0                     60000   \n",
      "29  32  3.33                       5.0                      5000   \n",
      "30  33  3.60                       1.5                     60000   \n",
      "31  34  3.80                       3.0                     65000   \n",
      "32  35  3.50                       3.0                     65000   \n",
      "33  36  3.39                       2.0                     60000   \n",
      "\n",
      "    Highest GPA   Lowest GPA Coops/Internships (YN)  \\\n",
      "0           3.50        3.50                      N   \n",
      "1           3.60        3.00                      Y   \n",
      "2           4.00        3.60                      Y   \n",
      "3           3.41        3.33                      N   \n",
      "4           3.67        3.00                      Y   \n",
      "5           3.58        3.52                      N   \n",
      "6           3.70        3.30                      N   \n",
      "7           3.53        3.30                      Y   \n",
      "8           3.90        3.10                      Y   \n",
      "9           3.80        3.00                      N   \n",
      "10          3.50        3.50                      N   \n",
      "11          4.00        3.00                      N   \n",
      "12          3.70        3.30                      y   \n",
      "13          3.64        3.37                      Y   \n",
      "14          3.64        2.67                      Y   \n",
      "15          4.00        3.00                      Y   \n",
      "16          4.00        3.30                      N   \n",
      "17          4.00        4.00                      Y   \n",
      "18          3.60        3.10                      N   \n",
      "19          4.00        3.42                      Y   \n",
      "20          4.00        3.00                      Y   \n",
      "21          3.80        3.20                      Y   \n",
      "22          3.80        3.20                      Y   \n",
      "23          4.00        3.65                      Y   \n",
      "24          4.00        3.80                      Y   \n",
      "25          3.30        3.00                      N   \n",
      "26          4.00        3.33                      Y   \n",
      "27          4.00        3.28                      Y   \n",
      "28          3.50        3.30                      Y   \n",
      "29          3.66        3.00                      Y   \n",
      "30          3.70        3.40                      Y   \n",
      "31          3.80        3.50                      Y   \n",
      "32          4.00        3.60                      Y   \n",
      "33          3.80        3.20                      Y   \n",
      "\n",
      "    Number of contacts on Linkedin  Expected Salary after graduation  \n",
      "0                              250                             90000  \n",
      "1                              400                            100000  \n",
      "2                              500                             90000  \n",
      "3                              365                            100000  \n",
      "4                              400                            100000  \n",
      "5                              230                             85000  \n",
      "6                              250                             90000  \n",
      "7                              260                            100000  \n",
      "8                              250                            110000  \n",
      "9                              525                            105000  \n",
      "10                             400                             85000  \n",
      "11                             920                            140000  \n",
      "12                             300                             90000  \n",
      "13                             310                             95000  \n",
      "14                             550                            120000  \n",
      "15                             350                            100000  \n",
      "16                             600                             88000  \n",
      "17                             500                            130000  \n",
      "18                             500                             80000  \n",
      "19                             650                             95000  \n",
      "20                             515                             80000  \n",
      "21                             350                            110000  \n",
      "22                             301                             90000  \n",
      "23                             700                            100000  \n",
      "24                             809                            120000  \n",
      "25                             258                            100000  \n",
      "26                             350                            100000  \n",
      "27                             900                            100000  \n",
      "28                             220                            110000  \n",
      "29                             183                            100000  \n",
      "30                             340                            100000  \n",
      "31                             800                             80000  \n",
      "32                             400                             80000  \n",
      "33                             500                             90000  \n"
     ]
    }
   ],
   "source": [
    "data = pd.read_csv(\"D:/GRAD_SCHOOL/Spring2017/ADS/Lab/ClassData.csv\")"
   ]
  },
  {
   "cell_type": "code",
   "execution_count": 26,
   "metadata": {
    "collapsed": false
   },
   "outputs": [
    {
     "name": "stdout",
     "output_type": "stream",
     "text": [
      "Min GPA is:  3.06\n",
      "Max GPA is:  4.0\n",
      "Median of GPA is:  3.5\n",
      "Average of GPA is:  3.5097058823529426\n",
      "Min YearofWorkExp is:  1.0\n",
      "Max YearofWorkExp is:  6.0\n",
      "Median YearofWorkExp is:  2.5\n",
      "Average YearofWorkExp is:  2.8117647058823527\n"
     ]
    }
   ],
   "source": [
    "# 1) Min, Max, Median, Avg for GPA and YearofWorkExp\n",
    "print('Min GPA is: ', min(data['GPA']))\n",
    "print('Max GPA is: ', max(data['GPA']))\n",
    "print('Median of GPA is: ', data['GPA'].median())\n",
    "print('Average of GPA is: ', data['GPA'].mean())\n",
    "\n",
    "print('Min YearofWorkExp is: ', min(data['Years of work experience']))\n",
    "print('Max YearofWorkExp is: ', max(data['Years of work experience']))\n",
    "print('Median YearofWorkExp is: ', data['Years of work experience'].median())\n",
    "print('Average YearofWorkExp is: ', data['Years of work experience'].mean())\n",
    "\n"
   ]
  },
  {
   "cell_type": "code",
   "execution_count": 32,
   "metadata": {
    "collapsed": false
   },
   "outputs": [
    {
     "name": "stdout",
     "output_type": "stream",
     "text": [
      "The mode of current salary is: \n",
      " 0    60000\n",
      "dtype: int64\n"
     ]
    }
   ],
   "source": [
    "# 2. Find the mode of the Salary \n",
    "getmode = data['Latest salary (per year)'].mode()\n",
    "print('The mode of current salary is:','\\n', getmode)"
   ]
  },
  {
   "cell_type": "code",
   "execution_count": 79,
   "metadata": {
    "collapsed": false
   },
   "outputs": [
    {
     "name": "stdout",
     "output_type": "stream",
     "text": [
      "% of students having Co/op is: 70.58823529411765\n",
      "% of students not having Co/op is: 29.411764705882355\n"
     ]
    }
   ],
   "source": [
    "# 3. % of students having Co/op and not having Co/op\n",
    "coops = data['Coops/Internships (YN)'].str.upper()\n",
    "with_coop = len(coops[coops == 'Y'])\n",
    "total_count = len(coops)\n",
    "print('% of students having Co/op is:', with_coop/total_count * 100)\n",
    "without_coop = len(coops[coops == 'N'])\n",
    "print('% of students not having Co/op is:', without_coop/total_count * 100)"
   ]
  },
  {
   "cell_type": "code",
   "execution_count": 91,
   "metadata": {
    "collapsed": false
   },
   "outputs": [
    {
     "name": "stdout",
     "output_type": "stream",
     "text": [
      "No of students with more than 500 LinkedIn contacts is: 10\n"
     ]
    }
   ],
   "source": [
    "# 4. No of students with more than 500 LinkedIn contacts\n",
    "cont = data['Number of contacts on Linkedin']\n",
    "print('No of students with more than 500 LinkedIn contacts is:', len(cont[cont > 500]))"
   ]
  },
  {
   "cell_type": "code",
   "execution_count": 97,
   "metadata": {
    "collapsed": false
   },
   "outputs": [
    {
     "name": "stdout",
     "output_type": "stream",
     "text": [
      "Inter Quartile range for the Expected Salary Range is:  10000.0\n"
     ]
    }
   ],
   "source": [
    "# 5. Find the Inter Quartile Range for the Expected Salary Range\n",
    "q75, q25 = np.percentile(data['Expected Salary after graduation'], [75 ,25])\n",
    "iqr = q75 - q25\n",
    "print(\"Inter Quartile range for the Expected Salary Range is: \", iqr)"
   ]
  }
 ],
 "metadata": {
  "anaconda-cloud": {},
  "kernelspec": {
   "display_name": "Python [conda root]",
   "language": "python",
   "name": "conda-root-py"
  },
  "language_info": {
   "codemirror_mode": {
    "name": "ipython",
    "version": 3
   },
   "file_extension": ".py",
   "mimetype": "text/x-python",
   "name": "python",
   "nbconvert_exporter": "python",
   "pygments_lexer": "ipython3",
   "version": "3.5.2"
  }
 },
 "nbformat": 4,
 "nbformat_minor": 1
}
