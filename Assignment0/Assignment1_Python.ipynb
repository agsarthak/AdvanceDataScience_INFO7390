{
 "cells": [
  {
   "cell_type": "code",
   "execution_count": 2,
   "metadata": {
    "collapsed": true
   },
   "outputs": [],
   "source": [
    "import pandas as pd\n",
    "import numpy as np"
   ]
  },
  {
   "cell_type": "code",
   "execution_count": 3,
   "metadata": {
    "collapsed": false
   },
   "outputs": [],
   "source": [
    "data = pd.read_csv(\"D:/GRAD_SCHOOL/Spring2017/ADS/Assignments/A1/ClassData.csv\")"
   ]
  },
  {
   "cell_type": "code",
   "execution_count": 4,
   "metadata": {
    "collapsed": false
   },
   "outputs": [
    {
     "name": "stdout",
     "output_type": "stream",
     "text": [
      "Min GPA is:  3.06\n",
      "Max GPA is:  4.0\n",
      "Median of GPA is:  3.5\n",
      "Average of GPA is:  3.5097058823529426\n",
      "Min YearofWorkExp is:  1.0\n",
      "Max YearofWorkExp is:  6.0\n",
      "Median YearofWorkExp is:  2.5\n",
      "Average YearofWorkExp is:  2.8117647058823527\n"
     ]
    }
   ],
   "source": [
    "# 1) Min, Max, Median, Avg for GPA and YearofWorkExp\n",
    "print('Min GPA is: ', min(data['GPA']))\n",
    "print('Max GPA is: ', max(data['GPA']))\n",
    "print('Median of GPA is: ', data['GPA'].median())\n",
    "print('Average of GPA is: ', data['GPA'].mean())\n",
    "\n",
    "print('Min YearofWorkExp is: ', min(data['Years of work experience']))\n",
    "print('Max YearofWorkExp is: ', max(data['Years of work experience']))\n",
    "print('Median YearofWorkExp is: ', data['Years of work experience'].median())\n",
    "print('Average YearofWorkExp is: ', data['Years of work experience'].mean())\n",
    "\n"
   ]
  },
  {
   "cell_type": "code",
   "execution_count": 18,
   "metadata": {
    "collapsed": false
   },
   "outputs": [
    {
     "name": "stdout",
     "output_type": "stream",
     "text": [
      "The mode of current salary is: 60000\n"
     ]
    }
   ],
   "source": [
    "# 2. Find the mode of the Salary \n",
    "getmode = data['Latest salary (per year)'].mode()\n",
    "print('The mode of current salary is:', getmode[0])"
   ]
  },
  {
   "cell_type": "code",
   "execution_count": 7,
   "metadata": {
    "collapsed": false
   },
   "outputs": [
    {
     "name": "stdout",
     "output_type": "stream",
     "text": [
      "% of students having Co/op is: 70.58823529411765\n",
      "% of students not having Co/op is: 29.411764705882355\n"
     ]
    }
   ],
   "source": [
    "# 3. % of students having Co/op and not having Co/op\n",
    "coops = data['Coops/Internships (YN)'].str.upper()\n",
    "with_coop = len(coops[coops == 'Y'])\n",
    "total_count = len(coops)\n",
    "print('% of students having Co/op is:', with_coop/total_count * 100)\n",
    "without_coop = len(coops[coops == 'N'])\n",
    "print('% of students not having Co/op is:', without_coop/total_count * 100)"
   ]
  },
  {
   "cell_type": "code",
   "execution_count": 8,
   "metadata": {
    "collapsed": false
   },
   "outputs": [
    {
     "name": "stdout",
     "output_type": "stream",
     "text": [
      "No of students with more than 500 LinkedIn contacts is: 10\n"
     ]
    }
   ],
   "source": [
    "# 4. No of students with more than 500 LinkedIn contacts\n",
    "cont = data['Number of contacts on Linkedin']\n",
    "print('No of students with more than 500 LinkedIn contacts is:', len(cont[cont > 500]))"
   ]
  },
  {
   "cell_type": "code",
   "execution_count": 20,
   "metadata": {
    "collapsed": false
   },
   "outputs": [
    {
     "name": "stdout",
     "output_type": "stream",
     "text": [
      "Inter Quartile range for the Expected Salary Range is:  10000.0\n"
     ]
    }
   ],
   "source": [
    "# 5. Find the Inter Quartile Range for the Expected Salary Range\n",
    "q75, q25 = np.percentile(data['Expected Salary after graduation'], [75 ,25])\n",
    "iqr = q75 - q25\n",
    "print(\"Inter Quartile range for the Expected Salary Range is: \", iqr)"
   ]
  }
 ],
 "metadata": {
  "anaconda-cloud": {},
  "kernelspec": {
   "display_name": "Python [conda root]",
   "language": "python",
   "name": "conda-root-py"
  },
  "language_info": {
   "codemirror_mode": {
    "name": "ipython",
    "version": 3
   },
   "file_extension": ".py",
   "mimetype": "text/x-python",
   "name": "python",
   "nbconvert_exporter": "python",
   "pygments_lexer": "ipython3",
   "version": "3.5.2"
  }
 },
 "nbformat": 4,
 "nbformat_minor": 1
}
