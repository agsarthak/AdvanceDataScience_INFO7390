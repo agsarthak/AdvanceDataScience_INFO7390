{
 "cells": [
  {
   "cell_type": "code",
   "execution_count": 1,
   "metadata": {
    "collapsed": true
   },
   "outputs": [],
   "source": [
    "import urllib.request\n",
    "import zipfile\n",
    "import os"
   ]
  },
  {
   "cell_type": "markdown",
   "metadata": {},
   "source": [
    "### Generate URLs for a year"
   ]
  },
  {
   "cell_type": "code",
   "execution_count": 2,
   "metadata": {
    "collapsed": false
   },
   "outputs": [],
   "source": [
    "#http://www.sec.gov/dera/data/Public-EDGAR-log-file-data/2016/Qtr1/log20160101.zip\n",
    "url_pre = \"http://www.sec.gov/dera/data/Public-EDGAR-log-file-data/\"\n",
    "\n",
    "qtr_months = {'Qtr1':['01','02','03'], 'Qtr2':['04','05','06'], 'Qtr3':['07','08','09'], 'Qtr4':['10','11','12']}\n",
    "\n",
    "def get_urls(year):\n",
    "    try:\n",
    "        url_final = []\n",
    "        for key, val in qtr_months.items():\n",
    "            for v in val:\n",
    "                url_final.append(url_pre + str(year) + '/' + str(key) + '/' + 'log' + str(year) + str(v) + '01.zip')\n",
    "        return(url_final)\n",
    "    except:\n",
    "        print(\"Invalid input\")"
   ]
  },
  {
   "cell_type": "markdown",
   "metadata": {},
   "source": [
    "### Download zips for generated URLs"
   ]
  },
  {
   "cell_type": "code",
   "execution_count": 4,
   "metadata": {
    "collapsed": false
   },
   "outputs": [],
   "source": [
    "valid_years = range(2003,2017)\n",
    "\n",
    "def download_logs(year):\n",
    "    if not os.path.exists('downloaded_zips'):\n",
    "        os.makedirs('downloaded_zips')\n",
    "        \n",
    "    if year not in valid_years:\n",
    "        print(\"Invalid year. Please enter a valid year between 2003 and 2016.\")\n",
    "    else:\n",
    "        zips = []\n",
    "        url_final = get_urls(year)\n",
    "        for i in url_final:\n",
    "            print(\"Zip downloading - \", i[-15:], \"...\" )\n",
    "            try:\n",
    "                zips.append(urllib.request.urlretrieve(i, filename= 'downloaded_zips/'+i[-15:]))\n",
    "            except Exception as e:\n",
    "                print(str(e))\n",
    "                continue\n",
    "        return(zips)"
   ]
  },
  {
   "cell_type": "code",
   "execution_count": 6,
   "metadata": {
    "collapsed": false
   },
   "outputs": [
    {
     "name": "stdout",
     "output_type": "stream",
     "text": [
      "Zip downloading -  log20030401.zip ...\n",
      "Zip downloading -  log20030501.zip ...\n",
      "Zip downloading -  log20030601.zip ...\n",
      "Zip downloading -  log20031001.zip ...\n",
      "Zip downloading -  log20031101.zip ...\n",
      "Zip downloading -  log20031201.zip ...\n",
      "Zip downloading -  log20030101.zip ...\n",
      "Zip downloading -  log20030201.zip ...\n",
      "Zip downloading -  log20030301.zip ...\n",
      "Zip downloading -  log20030701.zip ...\n",
      "Zip downloading -  log20030801.zip ...\n",
      "Zip downloading -  log20030901.zip ...\n"
     ]
    },
    {
     "data": {
      "text/plain": [
       "[('downloaded_zips/log20030401.zip',\n",
       "  <http.client.HTTPMessage at 0x29eb26c5cf8>),\n",
       " ('downloaded_zips/log20030501.zip',\n",
       "  <http.client.HTTPMessage at 0x29eb26dd2e8>),\n",
       " ('downloaded_zips/log20030601.zip',\n",
       "  <http.client.HTTPMessage at 0x29eb26dd9e8>),\n",
       " ('downloaded_zips/log20031001.zip',\n",
       "  <http.client.HTTPMessage at 0x29eb26ddd30>),\n",
       " ('downloaded_zips/log20031101.zip',\n",
       "  <http.client.HTTPMessage at 0x29eb26c5c88>),\n",
       " ('downloaded_zips/log20031201.zip',\n",
       "  <http.client.HTTPMessage at 0x29eb26c27b8>),\n",
       " ('downloaded_zips/log20030101.zip',\n",
       "  <http.client.HTTPMessage at 0x29eb26bbfd0>),\n",
       " ('downloaded_zips/log20030201.zip',\n",
       "  <http.client.HTTPMessage at 0x29eb26c2908>),\n",
       " ('downloaded_zips/log20030301.zip',\n",
       "  <http.client.HTTPMessage at 0x29eb26dd128>),\n",
       " ('downloaded_zips/log20030701.zip',\n",
       "  <http.client.HTTPMessage at 0x29eb26e9208>),\n",
       " ('downloaded_zips/log20030801.zip',\n",
       "  <http.client.HTTPMessage at 0x29eb26e9908>),\n",
       " ('downloaded_zips/log20030901.zip',\n",
       "  <http.client.HTTPMessage at 0x29eb26e9eb8>)]"
      ]
     },
     "execution_count": 6,
     "metadata": {},
     "output_type": "execute_result"
    }
   ],
   "source": [
    "download_logs(2003)"
   ]
  },
  {
   "cell_type": "markdown",
   "metadata": {},
   "source": [
    "### Unzip the logs and extract csv "
   ]
  },
  {
   "cell_type": "code",
   "execution_count": 7,
   "metadata": {
    "collapsed": false
   },
   "outputs": [],
   "source": [
    "def unzip_files():\n",
    "    if not os.path.exists('downloaded_zips_unzipped'):\n",
    "        os.makedirs('downloaded_zips_unzipped')\n",
    "    try:\n",
    "        zip_files = os.listdir('downloaded_zips')\n",
    "        for f in zip_files:\n",
    "            z = zipfile.ZipFile('downloaded_zips/'+f,'r')\n",
    "            for file in z.namelist():\n",
    "                #print(file)\n",
    "                if file.endswith('.csv'):\n",
    "                    z.extract(file, r'downloaded_zips_unzipped')\n",
    "    except Exception as e:\n",
    "        print(str(e))\n",
    "        "
   ]
  },
  {
   "cell_type": "code",
   "execution_count": 8,
   "metadata": {
    "collapsed": false
   },
   "outputs": [
    {
     "name": "stdout",
     "output_type": "stream",
     "text": [
      "log20030101.csv\n",
      "README.txt\n",
      "log20030201.csv\n",
      "README.txt\n",
      "log20030301.csv\n",
      "README.txt\n",
      "log20030401.csv\n",
      "README.txt\n",
      "log20030501.csv\n",
      "README.txt\n",
      "log20030601.csv\n",
      "README.txt\n",
      "log20030701.csv\n",
      "README.txt\n",
      "log20030801.csv\n",
      "README.txt\n",
      "log20030901.csv\n",
      "README.txt\n",
      "log20031001.csv\n",
      "README.txt\n",
      "log20031101.csv\n",
      "README.txt\n",
      "log20031201.csv\n",
      "README.txt\n"
     ]
    }
   ],
   "source": [
    "unzip_files()"
   ]
  }
 ],
 "metadata": {
  "anaconda-cloud": {},
  "kernelspec": {
   "display_name": "Python [conda root]",
   "language": "python",
   "name": "conda-root-py"
  },
  "language_info": {
   "codemirror_mode": {
    "name": "ipython",
    "version": 3
   },
   "file_extension": ".py",
   "mimetype": "text/x-python",
   "name": "python",
   "nbconvert_exporter": "python",
   "pygments_lexer": "ipython3",
   "version": "3.5.2"
  }
 },
 "nbformat": 4,
 "nbformat_minor": 1
}
