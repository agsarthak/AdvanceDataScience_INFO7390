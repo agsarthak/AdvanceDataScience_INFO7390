{
 "cells": [
  {
   "cell_type": "code",
   "execution_count": 2,
   "metadata": {
    "collapsed": false
   },
   "outputs": [
    {
     "name": "stderr",
     "output_type": "stream",
     "text": [
      "\n",
      "Attaching package: 'dplyr'\n",
      "\n",
      "The following objects are masked from 'package:stats':\n",
      "\n",
      "    filter, lag\n",
      "\n",
      "The following objects are masked from 'package:base':\n",
      "\n",
      "    intersect, setdiff, setequal, union\n",
      "\n"
     ]
    }
   ],
   "source": [
    "# Loading Libraries\n",
    "library(dplyr)"
   ]
  },
  {
   "cell_type": "code",
   "execution_count": 4,
   "metadata": {
    "collapsed": false
   },
   "outputs": [],
   "source": [
    "# Read the csv\n",
    "data <- read.csv(\"D:/GRAD_SCHOOL/Spring2017/ADS/Assignments/A1/ClassData.csv\")"
   ]
  },
  {
   "cell_type": "code",
   "execution_count": 5,
   "metadata": {
    "collapsed": false
   },
   "outputs": [
    {
     "data": {
      "text/html": [
       "<ol class=list-inline>\n",
       "\t<li>'No'</li>\n",
       "\t<li>'GPA'</li>\n",
       "\t<li>'Years.of.work.experience'</li>\n",
       "\t<li>'Latest.salary..per.year.'</li>\n",
       "\t<li>'Highest.GPA'</li>\n",
       "\t<li>'Lowest.GPA'</li>\n",
       "\t<li>'Coops.Internships..YN.'</li>\n",
       "\t<li>'Number.of.contacts.on.Linkedin'</li>\n",
       "\t<li>'Expected.Salary.after.graduation'</li>\n",
       "</ol>\n"
      ],
      "text/latex": [
       "\\begin{enumerate*}\n",
       "\\item 'No'\n",
       "\\item 'GPA'\n",
       "\\item 'Years.of.work.experience'\n",
       "\\item 'Latest.salary..per.year.'\n",
       "\\item 'Highest.GPA'\n",
       "\\item 'Lowest.GPA'\n",
       "\\item 'Coops.Internships..YN.'\n",
       "\\item 'Number.of.contacts.on.Linkedin'\n",
       "\\item 'Expected.Salary.after.graduation'\n",
       "\\end{enumerate*}\n"
      ],
      "text/markdown": [
       "1. 'No'\n",
       "2. 'GPA'\n",
       "3. 'Years.of.work.experience'\n",
       "4. 'Latest.salary..per.year.'\n",
       "5. 'Highest.GPA'\n",
       "6. 'Lowest.GPA'\n",
       "7. 'Coops.Internships..YN.'\n",
       "8. 'Number.of.contacts.on.Linkedin'\n",
       "9. 'Expected.Salary.after.graduation'\n",
       "\n",
       "\n"
      ],
      "text/plain": [
       "[1] \"No\"                               \"GPA\"                             \n",
       "[3] \"Years.of.work.experience\"         \"Latest.salary..per.year.\"        \n",
       "[5] \"Highest.GPA\"                      \"Lowest.GPA\"                      \n",
       "[7] \"Coops.Internships..YN.\"           \"Number.of.contacts.on.Linkedin\"  \n",
       "[9] \"Expected.Salary.after.graduation\""
      ]
     },
     "metadata": {},
     "output_type": "display_data"
    }
   ],
   "source": [
    "# look at top 5 rows of data\n",
    "names(data)"
   ]
  },
  {
   "cell_type": "code",
   "execution_count": 6,
   "metadata": {
    "collapsed": false
   },
   "outputs": [
    {
     "data": {
      "text/plain": [
       "   Min. 1st Qu.  Median    Mean 3rd Qu.    Max. \n",
       "  3.060   3.400   3.500   3.510   3.585   4.000 "
      ]
     },
     "metadata": {},
     "output_type": "display_data"
    },
    {
     "data": {
      "text/plain": [
       "   Min. 1st Qu.  Median    Mean 3rd Qu.    Max. \n",
       "  1.000   2.000   2.500   2.812   4.000   6.000 "
      ]
     },
     "metadata": {},
     "output_type": "display_data"
    }
   ],
   "source": [
    "######### 1. Min, Max, Median, Avg for GPA and YearofWorkExp ##########\n",
    "summary(data$GPA)\n",
    "summary(data$Years.of.work.experience)"
   ]
  },
  {
   "cell_type": "code",
   "execution_count": 7,
   "metadata": {
    "collapsed": false
   },
   "outputs": [
    {
     "name": "stdout",
     "output_type": "stream",
     "text": [
      "The mode of the salary is:  60000"
     ]
    }
   ],
   "source": [
    "######### 2. Find the mode of the Salary ######### \n",
    "getmode = function(x){ \n",
    "  ta = table(x)\n",
    "  ta.max = max(ta)\n",
    "  if (all(ta == ta.max))\n",
    "    mod = NA\n",
    "  else\n",
    "    if(is.numeric(x))\n",
    "      mod = as.numeric(names(ta)[ta == ta.max])\n",
    "  else\n",
    "    mod = names(ta)[ta == tam]\n",
    "  return(mod)\n",
    "}\n",
    "mode_salary <- getmode(data$Latest.salary..per.year.)\n",
    "                       \n",
    "cat(\"The mode of the salary is: \", mode_salary) \n",
    "        "
   ]
  },
  {
   "cell_type": "code",
   "execution_count": 8,
   "metadata": {
    "collapsed": false,
    "scrolled": true
   },
   "outputs": [
    {
     "name": "stdout",
     "output_type": "stream",
     "text": [
      "The percentage of students having coop is:  70.58824 \n",
      "The percentage of students having coop is:  29.41176"
     ]
    }
   ],
   "source": [
    "########## 3. % of students having Co/op and not having Co/op ##########\n",
    "\n",
    "#count Y in the data after changing to upper case\n",
    "with.coop.count <- count(data[toupper(data$Coops.Internships..YN.) == \"Y\",])\n",
    "#count total records\n",
    "total.count <- count(data)\n",
    "#calculate percentage\n",
    "per_coop <- 100 * (with.coop.count/total.count)\n",
    "cat(\"The percentage of students having coop is: \", per_coop[1,1], \"\\n\")\n",
    "\n",
    "#count N in the data after changing to upper case\n",
    "without.coop.count <- count(data[toupper(data$Coops.Internships..YN.) == \"N\",])\n",
    "#calculate percentage\n",
    "per_no_coop <- 100 * (without.coop.count/total.count)\n",
    "cat(\"The percentage of students having coop is: \", per_no_coop[1,1])"
   ]
  },
  {
   "cell_type": "code",
   "execution_count": 9,
   "metadata": {
    "collapsed": false,
    "scrolled": true
   },
   "outputs": [
    {
     "name": "stdout",
     "output_type": "stream",
     "text": [
      "No of students with more than 500 LinkedIn contacts is:  10"
     ]
    }
   ],
   "source": [
    "######### 4. No of students with more than 500 LinkedIn contacts #########\n",
    "cnt_link <- count(data[data$Number.of.contacts.on.Linkedin > 500,])\n",
    "cat(\"No of students with more than 500 LinkedIn contacts is: \", cnt_link$n)"
   ]
  },
  {
   "cell_type": "code",
   "execution_count": 12,
   "metadata": {
    "collapsed": false
   },
   "outputs": [
    {
     "data": {
      "text/plain": [
       "   Min. 1st Qu.  Median    Mean 3rd Qu.    Max. \n",
       "  80000   90000  100000   98620  100000  140000 "
      ]
     },
     "metadata": {},
     "output_type": "display_data"
    },
    {
     "name": "stdout",
     "output_type": "stream",
     "text": [
      "Inter Quartile Range for the Expected Salary Range is:  10000"
     ]
    }
   ],
   "source": [
    "######### 5. Find the Inter Quartile Range for the Expected Salary Range #########\n",
    "summary(data$Expected.Salary.after.graduation)\n",
    "inter_q_r <- IQR(data$Expected.Salary.after.graduation)\n",
    "cat(\"Inter Quartile Range for the Expected Salary Range is: \", inter_q_r)"
   ]
  }
 ],
 "metadata": {
  "anaconda-cloud": {},
  "kernelspec": {
   "display_name": "R",
   "language": "R",
   "name": "ir"
  },
  "language_info": {
   "codemirror_mode": "r",
   "file_extension": ".r",
   "mimetype": "text/x-r-source",
   "name": "R",
   "pygments_lexer": "r",
   "version": "3.3.2"
  }
 },
 "nbformat": 4,
 "nbformat_minor": 1
}
